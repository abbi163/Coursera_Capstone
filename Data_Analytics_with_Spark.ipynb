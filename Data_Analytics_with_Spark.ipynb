{
  "nbformat": 4,
  "nbformat_minor": 0,
  "metadata": {
    "colab": {
      "name": "Data Analytics with Spark.ipynb",
      "provenance": [],
      "authorship_tag": "ABX9TyO/Mp5EsVXP5LjsGU42CF9h",
      "include_colab_link": true
    },
    "kernelspec": {
      "name": "python3",
      "display_name": "Python 3"
    }
  },
  "cells": [
    {
      "cell_type": "markdown",
      "metadata": {
        "id": "view-in-github",
        "colab_type": "text"
      },
      "source": [
        "<a href=\"https://colab.research.google.com/github/abbi163/Coursera_Capstone/blob/master/Data_Analytics_with_Spark.ipynb\" target=\"_parent\"><img src=\"https://colab.research.google.com/assets/colab-badge.svg\" alt=\"Open In Colab\"/></a>"
      ]
    },
    {
      "cell_type": "code",
      "metadata": {
        "id": "08KRHejPSDCD",
        "colab_type": "code",
        "colab": {
          "base_uri": "https://localhost:8080/",
          "height": 124
        },
        "outputId": "b1a018bb-7447-4f29-ec61-0d64d797d87e"
      },
      "source": [
        "from google.colab import drive\n",
        "drive.mount('/content/drive')"
      ],
      "execution_count": 1,
      "outputs": [
        {
          "output_type": "stream",
          "text": [
            "Go to this URL in a browser: https://accounts.google.com/o/oauth2/auth?client_id=947318989803-6bn6qk8qdgf4n4g3pfee6491hc0brc4i.apps.googleusercontent.com&redirect_uri=urn%3aietf%3awg%3aoauth%3a2.0%3aoob&response_type=code&scope=email%20https%3a%2f%2fwww.googleapis.com%2fauth%2fdocs.test%20https%3a%2f%2fwww.googleapis.com%2fauth%2fdrive%20https%3a%2f%2fwww.googleapis.com%2fauth%2fdrive.photos.readonly%20https%3a%2f%2fwww.googleapis.com%2fauth%2fpeopleapi.readonly\n",
            "\n",
            "Enter your authorization code:\n",
            "··········\n",
            "Mounted at /content/drive\n"
          ],
          "name": "stdout"
        }
      ]
    },
    {
      "cell_type": "code",
      "metadata": {
        "id": "hAu6q3IySyPJ",
        "colab_type": "code",
        "colab": {
          "base_uri": "https://localhost:8080/",
          "height": 263
        },
        "outputId": "ea986d5e-58a0-48e7-d1e4-f98de227cf27"
      },
      "source": [
        "## Task 1: Install Pyspark !!\n",
        "\n",
        "!pip install pyspark"
      ],
      "execution_count": 2,
      "outputs": [
        {
          "output_type": "stream",
          "text": [
            "Collecting pyspark\n",
            "\u001b[?25l  Downloading https://files.pythonhosted.org/packages/8e/b0/bf9020b56492281b9c9d8aae8f44ff51e1bc91b3ef5a884385cb4e389a40/pyspark-3.0.0.tar.gz (204.7MB)\n",
            "\u001b[K     |████████████████████████████████| 204.7MB 56kB/s \n",
            "\u001b[?25hCollecting py4j==0.10.9\n",
            "\u001b[?25l  Downloading https://files.pythonhosted.org/packages/9e/b6/6a4fb90cd235dc8e265a6a2067f2a2c99f0d91787f06aca4bcf7c23f3f80/py4j-0.10.9-py2.py3-none-any.whl (198kB)\n",
            "\u001b[K     |████████████████████████████████| 204kB 30.1MB/s \n",
            "\u001b[?25hBuilding wheels for collected packages: pyspark\n",
            "  Building wheel for pyspark (setup.py) ... \u001b[?25l\u001b[?25hdone\n",
            "  Created wheel for pyspark: filename=pyspark-3.0.0-py2.py3-none-any.whl size=205044182 sha256=e48cb744646be71003f20d8753bd3aa2fda24ba18cb58ec5967f52d5e8cacff3\n",
            "  Stored in directory: /root/.cache/pip/wheels/57/27/4d/ddacf7143f8d5b76c45c61ee2e43d9f8492fc5a8e78ebd7d37\n",
            "Successfully built pyspark\n",
            "Installing collected packages: py4j, pyspark\n",
            "Successfully installed py4j-0.10.9 pyspark-3.0.0\n"
          ],
          "name": "stdout"
        }
      ]
    },
    {
      "cell_type": "code",
      "metadata": {
        "id": "VYbld8xUS53T",
        "colab_type": "code",
        "colab": {}
      },
      "source": [
        "from pyspark.sql import SparkSession\n",
        "from pyspark.sql.functions import count, desc, col, max, struct\n",
        "import matplotlib.pyplot as plt\n"
      ],
      "execution_count": 3,
      "outputs": []
    },
    {
      "cell_type": "code",
      "metadata": {
        "id": "DaFBkRVATedZ",
        "colab_type": "code",
        "colab": {}
      },
      "source": [
        "## Creating sparksession \n",
        "spark =  SparkSession.builder.appName('spark_app').getOrCreate()"
      ],
      "execution_count": 17,
      "outputs": []
    },
    {
      "cell_type": "markdown",
      "metadata": {
        "id": "husKoB46U307",
        "colab_type": "text"
      },
      "source": [
        "## Task 2: \n",
        "### Importing the Listning.csv file !"
      ]
    },
    {
      "cell_type": "code",
      "metadata": {
        "id": "YQuREpKaUUjZ",
        "colab_type": "code",
        "colab": {}
      },
      "source": [
        "listning_csv_path = '/content/drive/My Drive/dataset/listenings.csv'\n",
        "\n",
        "# We use spark method called read which read csv format data. \n",
        "# 'inferSchema' = True, =>, infers columns types based on the data type we have\n",
        "# 'header' = Ture => same column name as in csv file. \n",
        "listning_df = spark.read.format('csv')\\\n",
        "                        .option('inferSchema', True)\\\n",
        "                        .option('header', True)\\\n",
        "                        .load(listning_csv_path)\n",
        "\n",
        "# listning_df is a pyspark dataframe. "
      ],
      "execution_count": 18,
      "outputs": []
    },
    {
      "cell_type": "code",
      "metadata": {
        "id": "_y5D6YNAU0Rh",
        "colab_type": "code",
        "colab": {
          "base_uri": "https://localhost:8080/",
          "height": 295
        },
        "outputId": "90fb40e1-5340-4f98-8612-616a75d1783f"
      },
      "source": [
        "# checking what is inside listning_df using show method\n",
        "listning_df.show(10)"
      ],
      "execution_count": 19,
      "outputs": [
        {
          "output_type": "stream",
          "text": [
            "+-----------+-------------+--------------------+------------+--------------------+\n",
            "|    user_id|         date|               track|      artist|               album|\n",
            "+-----------+-------------+--------------------+------------+--------------------+\n",
            "|000Silenced|1299680100000|           Price Tag|    Jessie J|         Who You Are|\n",
            "|000Silenced|1299679920000|Price Tag (Acoust...|    Jessie J|           Price Tag|\n",
            "|000Silenced|1299679440000|Be Mine! (Ballad ...|       Robyn|            Be Mine!|\n",
            "|000Silenced|1299679200000|            Acapella|       Kelis|            Acapella|\n",
            "|000Silenced|1299675660000|   I'm Not Invisible|   The Tease|   I'm Not Invisible|\n",
            "|000Silenced|1297511400000|Bounce (Feat NORE...|    MSTRKRFT|         Fist of God|\n",
            "|000Silenced|1294498440000|Don't Stop The Mu...|     Rihanna|Addicted 2 Bassli...|\n",
            "|000Silenced|1292438340000|               ObZen|   Meshuggah|               ObZen|\n",
            "|000Silenced|1292437740000|   Yama's Messengers|      Gojira|The Way of All Flesh|\n",
            "|000Silenced|1292436360000|On the Brink of E...|Napalm Death|Time Waits For No...|\n",
            "+-----------+-------------+--------------------+------------+--------------------+\n",
            "only showing top 10 rows\n",
            "\n"
          ],
          "name": "stdout"
        }
      ]
    },
    {
      "cell_type": "code",
      "metadata": {
        "id": "E_e7x0mnXJW8",
        "colab_type": "code",
        "colab": {
          "base_uri": "https://localhost:8080/",
          "height": 208
        },
        "outputId": "b7e4a112-d7c6-4523-c4b8-984176f208ba"
      },
      "source": [
        "# dropping useless columns\n",
        "listning_df = listning_df.drop('date')\n",
        "# dropping the null rows\n",
        "listning_df = listning_df.na.drop()\n",
        "# checking the dataset again\n",
        "listning_df.show(5) "
      ],
      "execution_count": 20,
      "outputs": [
        {
          "output_type": "stream",
          "text": [
            "+-----------+--------------------+---------+-----------------+\n",
            "|    user_id|               track|   artist|            album|\n",
            "+-----------+--------------------+---------+-----------------+\n",
            "|000Silenced|           Price Tag| Jessie J|      Who You Are|\n",
            "|000Silenced|Price Tag (Acoust...| Jessie J|        Price Tag|\n",
            "|000Silenced|Be Mine! (Ballad ...|    Robyn|         Be Mine!|\n",
            "|000Silenced|            Acapella|    Kelis|         Acapella|\n",
            "|000Silenced|   I'm Not Invisible|The Tease|I'm Not Invisible|\n",
            "+-----------+--------------------+---------+-----------------+\n",
            "only showing top 5 rows\n",
            "\n"
          ],
          "name": "stdout"
        }
      ]
    },
    {
      "cell_type": "code",
      "metadata": {
        "id": "FkZXCxkyZmhb",
        "colab_type": "code",
        "colab": {
          "base_uri": "https://localhost:8080/",
          "height": 121
        },
        "outputId": "cde8c920-44d6-4b14-eb46-e3c34a84380e"
      },
      "source": [
        "# let's see the schema using method called printSchema\n",
        "listning_df.printSchema()"
      ],
      "execution_count": 21,
      "outputs": [
        {
          "output_type": "stream",
          "text": [
            "root\n",
            " |-- user_id: string (nullable = true)\n",
            " |-- track: string (nullable = true)\n",
            " |-- artist: string (nullable = true)\n",
            " |-- album: string (nullable = true)\n",
            "\n"
          ],
          "name": "stdout"
        }
      ]
    },
    {
      "cell_type": "code",
      "metadata": {
        "id": "MoPLXXUPacID",
        "colab_type": "code",
        "colab": {
          "base_uri": "https://localhost:8080/",
          "height": 35
        },
        "outputId": "e173706f-e254-49bf-8d17-5a87bc25f8b7"
      },
      "source": [
        "# let's see the shape of our dataframe!\n",
        "# check number of rows and columns in the dataset\n",
        "shape = (listning_df.count(), len(listning_df.columns))\n",
        "print(shape)\n",
        "# Pyspark dataframe doesnot have shape property like pandas dataframe"
      ],
      "execution_count": 24,
      "outputs": [
        {
          "output_type": "stream",
          "text": [
            "(13758905, 4)\n"
          ],
          "name": "stdout"
        }
      ]
    },
    {
      "cell_type": "code",
      "metadata": {
        "id": "PWXeg4114-eH",
        "colab_type": "code",
        "colab": {
          "base_uri": "https://localhost:8080/",
          "height": 208
        },
        "outputId": "0419b65f-73b3-40d6-d7fd-cc2d93a7d4b1"
      },
      "source": [
        "## Apply some query to extract useful information !!\n",
        "\n",
        "# Query 0: Select 2 columns, track and artist\n",
        "# returns dataframe which is stored in Q0 variable\n",
        "q0 = listning_df.select('artist', 'track') \n",
        "q0.show(5)"
      ],
      "execution_count": 25,
      "outputs": [
        {
          "output_type": "stream",
          "text": [
            "+---------+--------------------+\n",
            "|   artist|               track|\n",
            "+---------+--------------------+\n",
            "| Jessie J|           Price Tag|\n",
            "| Jessie J|Price Tag (Acoust...|\n",
            "|    Robyn|Be Mine! (Ballad ...|\n",
            "|    Kelis|            Acapella|\n",
            "|The Tease|   I'm Not Invisible|\n",
            "+---------+--------------------+\n",
            "only showing top 5 rows\n",
            "\n"
          ],
          "name": "stdout"
        }
      ]
    },
    {
      "cell_type": "code",
      "metadata": {
        "id": "DRZINwev7WDt",
        "colab_type": "code",
        "colab": {
          "base_uri": "https://localhost:8080/",
          "height": 295
        },
        "outputId": "77b63bc0-76f2-4402-8d20-528a9854a25d"
      },
      "source": [
        "#Query 1: Let's find all the records of users who have listened to Rihanna\n",
        "q1 = listning_df.select('*').filter(listning_df.artist == 'Rihanna')\n",
        "q1.show(10)"
      ],
      "execution_count": 27,
      "outputs": [
        {
          "output_type": "stream",
          "text": [
            "+-----------+--------------------+-------+--------------------+\n",
            "|    user_id|               track| artist|               album|\n",
            "+-----------+--------------------+-------+--------------------+\n",
            "|000Silenced|Don't Stop The Mu...|Rihanna|Addicted 2 Bassli...|\n",
            "|000Silenced|           Disturbia|Rihanna|Good Girl Gone Ba...|\n",
            "|00williamsl|   Hatin On The Club|Rihanna|              Random|\n",
            "|00williamsl|   Hatin On The Club|Rihanna|              Random|\n",
            "|00williamsl|         Complicated|Rihanna|                Loud|\n",
            "|00williamsl|What's My Name (f...|Rihanna|                Loud|\n",
            "|00williamsl|Kanye West feat R...|Rihanna|                Loud|\n",
            "|    0502008|Only Girl (In the...|Rihanna|                Loud|\n",
            "|      0rdos|Pon De Replay (Re...|Rihanna|    Music of the Sun|\n",
            "|      0rdos|          Now I Know|Rihanna|    Music of the Sun|\n",
            "+-----------+--------------------+-------+--------------------+\n",
            "only showing top 10 rows\n",
            "\n"
          ],
          "name": "stdout"
        }
      ]
    },
    {
      "cell_type": "code",
      "metadata": {
        "id": "dJ_LmVOU8DXY",
        "colab_type": "code",
        "colab": {
          "base_uri": "https://localhost:8080/",
          "height": 277
        },
        "outputId": "3b08fe7a-f3e2-4c3e-ed94-e46611c0a001"
      },
      "source": [
        "# Query 2: Find top 10 users who is fan of Rihanna !\n",
        "\n",
        "# Step 1:\n",
        "#  Select all the users who have listened to Rihanna\n",
        "\n",
        "# Step 2:\n",
        "# Perform agregation to count how many time each users have listened to rihanna\n",
        "\n",
        "q2 = listning_df.select('user_id')\\\n",
        "                .filter(listning_df.artist == 'Rihanna')\\\n",
        "                .groupby('user_id')\\\n",
        "                .agg(count('user_id').alias('count'))\\\n",
        "                .orderBy(desc('count'))\\\n",
        "                .limit(10)\n",
        "\n",
        "# agg -> aggregation, .alias('count') -> we are giving new column name, count !\n",
        "# orderBy is used for sorting either in ascending or descending order \n",
        "# as we need top 10 fans, we will use limit method for finding top 10 columns\n",
        "\n",
        "q2.show()"
      ],
      "execution_count": 33,
      "outputs": [
        {
          "output_type": "stream",
          "text": [
            "+---------------+-----+\n",
            "|        user_id|count|\n",
            "+---------------+-----+\n",
            "|        thiessu|  179|\n",
            "|    eyessetkyle|  166|\n",
            "|           adxx|  164|\n",
            "|missnumberthree|  156|\n",
            "|helloiamnatalie|  128|\n",
            "|          nmjnb|  124|\n",
            "|        AndyyyA|  123|\n",
            "|     BIGBANG186|  121|\n",
            "|     mixedvibes|  120|\n",
            "|       AndyKitt|  115|\n",
            "+---------------+-----+\n",
            "\n"
          ],
          "name": "stdout"
        }
      ]
    },
    {
      "cell_type": "code",
      "metadata": {
        "id": "_rzQmSad_ube",
        "colab_type": "code",
        "colab": {
          "base_uri": "https://localhost:8080/",
          "height": 277
        },
        "outputId": "918206c2-ae73-487c-f9ec-b7d2ea7e189a"
      },
      "source": [
        "# Query 3: Find top 10 famours track!\n",
        "\n",
        "# Note: There can by 2 same track name of 2 different artists\n",
        "# So select artist and track and use groupby on both, rather than just track\n",
        "# if more than one column, in count use '*' instead of both names!\n",
        "q3 = listning_df.select('artist','track')\\\n",
        "                .groupby('artist', 'track')\\\n",
        "                .agg(count('*').alias('count'))\\\n",
        "                .orderBy(desc('count'))\\\n",
        "                .limit(10)\n",
        "q3.show()"
      ],
      "execution_count": 37,
      "outputs": [
        {
          "output_type": "stream",
          "text": [
            "+--------------+-----------------+-----+\n",
            "|        artist|            track|count|\n",
            "+--------------+-----------------+-----+\n",
            "| Justin Bieber|            Sorry| 3381|\n",
            "|Arctic Monkeys| Do I Wanna Know?| 2865|\n",
            "|      Bon Iver|      Skinny Love| 2836|\n",
            "|          Zayn|       PILLOWTALK| 2701|\n",
            "|   The Killers|    Mr Brightside| 2690|\n",
            "|       Rihanna|             Work| 2646|\n",
            "|      Bastille|          Pompeii| 2606|\n",
            "|Mumford & Sons|  Little Lion Man| 2520|\n",
            "|Mumford & Sons|         The Cave| 2485|\n",
            "| Justin Bieber|What Do You Mean?| 2481|\n",
            "+--------------+-----------------+-----+\n",
            "\n"
          ],
          "name": "stdout"
        }
      ]
    },
    {
      "cell_type": "code",
      "metadata": {
        "id": "BgngYVo2CmpV",
        "colab_type": "code",
        "colab": {
          "base_uri": "https://localhost:8080/",
          "height": 277
        },
        "outputId": "d5ca53d6-fbec-4497-f7ca-d02044459adc"
      },
      "source": [
        "# Query 4, Famous top 10 tracks of Rihanna !!\n",
        "\n",
        "q4 = listning_df.filter(listning_df.artist == 'Rihanna')\\\n",
        "                .select('artist', 'track')\\\n",
        "                .groupby('artist', 'track')\\\n",
        "                .agg(count('*').alias('count'))\\\n",
        "                .orderBy(desc('count'))\\\n",
        "                .limit(10)\n",
        "q4.show()"
      ],
      "execution_count": 40,
      "outputs": [
        {
          "output_type": "stream",
          "text": [
            "+-------+--------------------+-----+\n",
            "| artist|               track|count|\n",
            "+-------+--------------------+-----+\n",
            "|Rihanna|                Work| 2646|\n",
            "|Rihanna|Only Girl (In the...| 1749|\n",
            "|Rihanna|We Found Love (fe...| 1575|\n",
            "|Rihanna|                 S&M| 1307|\n",
            "|Rihanna|            Rude Boy| 1303|\n",
            "|Rihanna|            Diamonds| 1224|\n",
            "|Rihanna|      Kiss it Better|  945|\n",
            "|Rihanna| Where Have You Been|  844|\n",
            "|Rihanna|Cheers (Drink to ...|  697|\n",
            "|Rihanna|           Needed Me|  679|\n",
            "+-------+--------------------+-----+\n",
            "\n"
          ],
          "name": "stdout"
        }
      ]
    },
    {
      "cell_type": "code",
      "metadata": {
        "id": "l1xcR4vxGIa-",
        "colab_type": "code",
        "colab": {}
      },
      "source": [
        ""
      ],
      "execution_count": null,
      "outputs": []
    }
  ]
}